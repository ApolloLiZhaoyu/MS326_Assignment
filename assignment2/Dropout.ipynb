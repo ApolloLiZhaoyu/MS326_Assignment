{
 "cells": [
  {
   "cell_type": "markdown",
   "metadata": {
    "tags": [
     "pdf-title"
    ]
   },
   "source": [
    "# Dropout\n",
    "Dropout [1] is a technique for regularizing neural networks by randomly setting some output activations to zero during the forward pass. In this exercise you will implement a dropout layer and modify your fully-connected network to optionally use dropout.\n",
    "\n",
    "[1] [Geoffrey E. Hinton et al, \"Improving neural networks by preventing co-adaptation of feature detectors\", arXiv 2012](https://arxiv.org/abs/1207.0580)"
   ]
  },
  {
   "cell_type": "code",
   "execution_count": 1,
   "metadata": {
    "tags": [
     "pdf-ignore"
    ]
   },
   "outputs": [],
   "source": [
    "# As usual, a bit of setup\n",
    "from __future__ import print_function\n",
    "import time\n",
    "import numpy as np\n",
    "import matplotlib.pyplot as plt\n",
    "from MS326.classifiers.fc_net import *\n",
    "from MS326.data_utils import get_mnist_data\n",
    "from MS326.gradient_check import eval_numerical_gradient, eval_numerical_gradient_array\n",
    "from MS326.solver import Solver\n",
    "\n",
    "%matplotlib inline\n",
    "plt.rcParams['figure.figsize'] = (10.0, 8.0) # set default size of plots\n",
    "plt.rcParams['image.interpolation'] = 'nearest'\n",
    "plt.rcParams['image.cmap'] = 'gray'\n",
    "\n",
    "# for auto-reloading external modules\n",
    "# see http://stackoverflow.com/questions/1907993/autoreload-of-modules-in-ipython\n",
    "%load_ext autoreload\n",
    "%autoreload 2\n",
    "\n",
    "def rel_error(x, y):\n",
    "  \"\"\" returns relative error \"\"\"\n",
    "  return np.max(np.abs(x - y) / (np.maximum(1e-8, np.abs(x) + np.abs(y))))"
   ]
  },
  {
   "cell_type": "code",
   "execution_count": 2,
   "metadata": {
    "tags": [
     "pdf-ignore"
    ]
   },
   "outputs": [
    {
     "name": "stdout",
     "output_type": "stream",
     "text": [
      "X_train:  (58000, 1, 28, 28)\n",
      "y_train:  (58000,)\n",
      "X_val:  (2000, 1, 28, 28)\n",
      "y_val:  (2000,)\n",
      "X_test:  (10000, 1, 28, 28)\n",
      "y_test:  (10000,)\n"
     ]
    }
   ],
   "source": [
    "# Load the (preprocessed) CIFAR10 data.\n",
    "\n",
    "data = get_mnist_data()\n",
    "for k, v in data.items():\n",
    "  print('%s: ' % k, v.shape)"
   ]
  },
  {
   "cell_type": "markdown",
   "metadata": {},
   "source": [
    "# Dropout forward pass\n",
    "In the file `MS326/layers.py`, implement the forward pass for dropout. Since dropout behaves differently during training and testing, make sure to implement the operation for both modes.\n",
    "\n",
    "Once you have done so, run the cell below to test your implementation."
   ]
  },
  {
   "cell_type": "code",
   "execution_count": 3,
   "metadata": {},
   "outputs": [
    {
     "name": "stdout",
     "output_type": "stream",
     "text": [
      "Running tests with p =  0.25\n",
      "Mean of input:  9.998185718619629\n",
      "Mean of train-time output:  9.965844428893769\n",
      "Mean of test-time output:  9.998185718619629\n",
      "Fraction of train-time output set to zero:  0.750676\n",
      "Fraction of test-time output set to zero:  0.0\n",
      "\n",
      "Running tests with p =  0.4\n",
      "Mean of input:  9.998185718619629\n",
      "Mean of train-time output:  9.962532584490344\n",
      "Mean of test-time output:  9.998185718619629\n",
      "Fraction of train-time output set to zero:  0.60134\n",
      "Fraction of test-time output set to zero:  0.0\n",
      "\n",
      "Running tests with p =  0.7\n",
      "Mean of input:  9.998185718619629\n",
      "Mean of train-time output:  10.008002041379534\n",
      "Mean of test-time output:  9.998185718619629\n",
      "Fraction of train-time output set to zero:  0.299268\n",
      "Fraction of test-time output set to zero:  0.0\n",
      "\n"
     ]
    }
   ],
   "source": [
    "np.random.seed(326)\n",
    "x = np.random.randn(500, 500) + 10\n",
    "\n",
    "for p in [0.25, 0.4, 0.7]:\n",
    "  out, _ = dropout_forward(x, {'mode': 'train', 'p': p})\n",
    "  out_test, _ = dropout_forward(x, {'mode': 'test', 'p': p})\n",
    "\n",
    "  print('Running tests with p = ', p)\n",
    "  print('Mean of input: ', x.mean())\n",
    "  print('Mean of train-time output: ', out.mean())\n",
    "  print('Mean of test-time output: ', out_test.mean())\n",
    "  print('Fraction of train-time output set to zero: ', (out == 0).mean())\n",
    "  print('Fraction of test-time output set to zero: ', (out_test == 0).mean())\n",
    "  print()"
   ]
  },
  {
   "cell_type": "markdown",
   "metadata": {},
   "source": [
    "# Dropout backward pass\n",
    "In the file `MS326/layers.py`, implement the backward pass for dropout. After doing so, run the following cell to numerically gradient-check your implementation."
   ]
  },
  {
   "cell_type": "code",
   "execution_count": 4,
   "metadata": {},
   "outputs": [
    {
     "name": "stdout",
     "output_type": "stream",
     "text": [
      "dx relative error:  5.445610432022894e-11\n"
     ]
    }
   ],
   "source": [
    "np.random.seed(326)\n",
    "x = np.random.randn(10, 10) + 10\n",
    "dout = np.random.randn(*x.shape)\n",
    "\n",
    "dropout_param = {'mode': 'train', 'p': 0.2, 'seed': 123}\n",
    "out, cache = dropout_forward(x, dropout_param)\n",
    "dx = dropout_backward(dout, cache)\n",
    "dx_num = eval_numerical_gradient_array(lambda xx: dropout_forward(xx, dropout_param)[0], x, dout)\n",
    "\n",
    "# Error should be around e-10 or less\n",
    "print('dx relative error: ', rel_error(dx, dx_num))"
   ]
  },
  {
   "cell_type": "markdown",
   "metadata": {
    "tags": [
     "pdf-inline"
    ]
   },
   "source": [
    "## Inline Question 1:\n",
    "What happens if we do not divide the values being passed through inverse dropout by `p` in the dropout layer? Why does that happen?\n",
    "\n",
    "## Answer:\n",
    "\n",
    "If we do not divide the values being passed through inverse dropout by p, then, during training, the mean of an image will decrease (get multiplied by p), that's no good since features of an image will be a function of dropout rate."
   ]
  },
  {
   "cell_type": "markdown",
   "metadata": {},
   "source": [
    "# Fully-connected nets with Dropout\n",
    "In the file `MS326/classifiers/fc_net.py`, modify your implementation to use dropout. Specifically, if the constructor of the network receives a value that is not 1 for the `dropout` parameter, then the net should add a dropout layer immediately after every ReLU nonlinearity. After doing so, run the following to numerically gradient-check your implementation."
   ]
  },
  {
   "cell_type": "code",
   "execution_count": 5,
   "metadata": {},
   "outputs": [
    {
     "name": "stdout",
     "output_type": "stream",
     "text": [
      "Running check with dropout =  1\n",
      "Initial loss:  2.3082870287873325\n",
      "W1 relative error: 1.81e-06\n",
      "W2 relative error: 5.75e-06\n",
      "W3 relative error: 5.51e-08\n",
      "b1 relative error: 1.14e-08\n",
      "b2 relative error: 3.02e-09\n",
      "b3 relative error: 9.20e-11\n",
      "\n",
      "Running check with dropout =  0.75\n",
      "Initial loss:  2.3034489064204298\n",
      "W1 relative error: 1.55e-05\n",
      "W2 relative error: 3.06e-07\n",
      "W3 relative error: 8.49e-08\n",
      "b1 relative error: 3.07e-08\n",
      "b2 relative error: 7.02e-09\n",
      "b3 relative error: 1.85e-10\n",
      "\n",
      "Running check with dropout =  0.5\n",
      "Initial loss:  2.3153884162452574\n",
      "W1 relative error: 4.65e-06\n",
      "W2 relative error: 3.28e-08\n",
      "W3 relative error: 3.56e-08\n",
      "b1 relative error: 2.54e-08\n",
      "b2 relative error: 1.98e-09\n",
      "b3 relative error: 1.44e-10\n",
      "\n"
     ]
    }
   ],
   "source": [
    "np.random.seed(326)\n",
    "N, D, H1, H2, C = 2, 15, 20, 30, 10\n",
    "X = np.random.randn(N, D)\n",
    "y = np.random.randint(C, size=(N,))\n",
    "\n",
    "for dropout in [1, 0.75, 0.5]:\n",
    "  print('Running check with dropout = ', dropout)\n",
    "  model = FullyConnectedNet([H1, H2], input_dim=D, num_classes=C,\n",
    "                            weight_scale=5e-2, dtype=np.float64,\n",
    "                            dropout=dropout, seed=123)\n",
    "\n",
    "  loss, grads = model.loss(X, y)\n",
    "  print('Initial loss: ', loss)\n",
    "  \n",
    "  # Relative errors should be around e-6 or less; Note that it's fine\n",
    "  # if for dropout=1 you have W2 error be on the order of e-5.\n",
    "  for name in sorted(grads):\n",
    "    f = lambda _: model.loss(X, y)[0]\n",
    "    grad_num = eval_numerical_gradient(f, model.params[name], verbose=False, h=1e-5)\n",
    "    print('%s relative error: %.2e' % (name, rel_error(grad_num, grads[name])))\n",
    "  print()"
   ]
  },
  {
   "cell_type": "markdown",
   "metadata": {},
   "source": [
    "# Regularization experiment\n",
    "As an experiment, we will train a pair of two-layer networks on 500 training examples: one will use no dropout, and one will use a keep probability of 0.25. We will then visualize the training and validation accuracies of the two networks over time."
   ]
  },
  {
   "cell_type": "code",
   "execution_count": 6,
   "metadata": {
    "scrolled": false
   },
   "outputs": [
    {
     "name": "stdout",
     "output_type": "stream",
     "text": [
      "1\n",
      "(Iteration 1 / 125) loss: 6.186351\n",
      "(Epoch 0 / 25) train acc: 0.568000; val_acc: 0.527500\n",
      "(Epoch 1 / 25) train acc: 0.774000; val_acc: 0.684500\n",
      "(Epoch 2 / 25) train acc: 0.860000; val_acc: 0.723000\n",
      "(Epoch 3 / 25) train acc: 0.874000; val_acc: 0.733500\n",
      "(Epoch 4 / 25) train acc: 0.944000; val_acc: 0.755000\n",
      "(Epoch 5 / 25) train acc: 0.954000; val_acc: 0.761500\n",
      "(Epoch 6 / 25) train acc: 0.948000; val_acc: 0.749000\n",
      "(Epoch 7 / 25) train acc: 0.980000; val_acc: 0.766500\n",
      "(Epoch 8 / 25) train acc: 0.958000; val_acc: 0.756500\n",
      "(Epoch 9 / 25) train acc: 0.976000; val_acc: 0.752000\n",
      "(Epoch 10 / 25) train acc: 0.984000; val_acc: 0.756500\n",
      "(Epoch 11 / 25) train acc: 0.954000; val_acc: 0.743500\n",
      "(Epoch 12 / 25) train acc: 0.974000; val_acc: 0.766000\n",
      "(Epoch 13 / 25) train acc: 0.964000; val_acc: 0.757500\n",
      "(Epoch 14 / 25) train acc: 0.982000; val_acc: 0.777500\n",
      "(Epoch 15 / 25) train acc: 0.976000; val_acc: 0.764500\n",
      "(Epoch 16 / 25) train acc: 0.996000; val_acc: 0.776000\n",
      "(Epoch 17 / 25) train acc: 0.998000; val_acc: 0.768500\n",
      "(Epoch 18 / 25) train acc: 0.998000; val_acc: 0.781500\n",
      "(Epoch 19 / 25) train acc: 1.000000; val_acc: 0.783500\n",
      "(Epoch 20 / 25) train acc: 0.998000; val_acc: 0.779000\n",
      "(Iteration 101 / 125) loss: 0.000026\n",
      "(Epoch 21 / 25) train acc: 0.998000; val_acc: 0.784000\n",
      "(Epoch 22 / 25) train acc: 1.000000; val_acc: 0.788000\n",
      "(Epoch 23 / 25) train acc: 1.000000; val_acc: 0.784000\n",
      "(Epoch 24 / 25) train acc: 1.000000; val_acc: 0.785000\n",
      "(Epoch 25 / 25) train acc: 1.000000; val_acc: 0.785500\n",
      "\n",
      "0.25\n",
      "(Iteration 1 / 125) loss: 9.931646\n",
      "(Epoch 0 / 25) train acc: 0.444000; val_acc: 0.461000\n",
      "(Epoch 1 / 25) train acc: 0.750000; val_acc: 0.684000\n",
      "(Epoch 2 / 25) train acc: 0.832000; val_acc: 0.726000\n",
      "(Epoch 3 / 25) train acc: 0.818000; val_acc: 0.704500\n",
      "(Epoch 4 / 25) train acc: 0.870000; val_acc: 0.756500\n",
      "(Epoch 5 / 25) train acc: 0.896000; val_acc: 0.757500\n",
      "(Epoch 6 / 25) train acc: 0.914000; val_acc: 0.773500\n",
      "(Epoch 7 / 25) train acc: 0.910000; val_acc: 0.775500\n",
      "(Epoch 8 / 25) train acc: 0.948000; val_acc: 0.775000\n",
      "(Epoch 9 / 25) train acc: 0.944000; val_acc: 0.775500\n",
      "(Epoch 10 / 25) train acc: 0.948000; val_acc: 0.779000\n",
      "(Epoch 11 / 25) train acc: 0.930000; val_acc: 0.777000\n",
      "(Epoch 12 / 25) train acc: 0.948000; val_acc: 0.785000\n",
      "(Epoch 13 / 25) train acc: 0.958000; val_acc: 0.779000\n",
      "(Epoch 14 / 25) train acc: 0.966000; val_acc: 0.779500\n",
      "(Epoch 15 / 25) train acc: 0.964000; val_acc: 0.778500\n",
      "(Epoch 16 / 25) train acc: 0.974000; val_acc: 0.790500\n",
      "(Epoch 17 / 25) train acc: 0.974000; val_acc: 0.785000\n",
      "(Epoch 18 / 25) train acc: 0.974000; val_acc: 0.794000\n",
      "(Epoch 19 / 25) train acc: 0.980000; val_acc: 0.793500\n",
      "(Epoch 20 / 25) train acc: 0.980000; val_acc: 0.787500\n",
      "(Iteration 101 / 125) loss: 0.977343\n",
      "(Epoch 21 / 25) train acc: 0.978000; val_acc: 0.792000\n",
      "(Epoch 22 / 25) train acc: 0.978000; val_acc: 0.791000\n",
      "(Epoch 23 / 25) train acc: 0.984000; val_acc: 0.785500\n",
      "(Epoch 24 / 25) train acc: 0.992000; val_acc: 0.786000\n",
      "(Epoch 25 / 25) train acc: 0.986000; val_acc: 0.782500\n",
      "\n"
     ]
    }
   ],
   "source": [
    "# Train two identical nets, one with dropout and one without\n",
    "np.random.seed(326)\n",
    "num_train = 500\n",
    "small_data = {\n",
    "  'X_train': data['X_train'][:num_train],\n",
    "  'y_train': data['y_train'][:num_train],\n",
    "  'X_val': data['X_val'],\n",
    "  'y_val': data['y_val'],\n",
    "}\n",
    "\n",
    "solvers = {}\n",
    "dropout_choices = [1, 0.25]\n",
    "for dropout in dropout_choices:\n",
    "  model = FullyConnectedNet([500], dropout=dropout)\n",
    "  print(dropout)\n",
    "\n",
    "  solver = Solver(model, small_data,\n",
    "                  num_epochs=25, batch_size=100,\n",
    "                  update_rule='adam',\n",
    "                  optim_config={\n",
    "                    'learning_rate': 5e-4,\n",
    "                  },\n",
    "                  verbose=True, print_every=100)\n",
    "  solver.train()\n",
    "  solvers[dropout] = solver\n",
    "  print()"
   ]
  },
  {
   "cell_type": "code",
   "execution_count": 7,
   "metadata": {},
   "outputs": [
    {
     "data": {
      "image/png": "[encoded data removed]",
      "text/plain": [
       "<Figure size 1080x1080 with 2 Axes>"
      ]
     },
     "metadata": {
      "needs_background": "light"
     },
     "output_type": "display_data"
    }
   ],
   "source": [
    "# Plot train and validation accuracies of the two models\n",
    "\n",
    "train_accs = []\n",
    "val_accs = []\n",
    "for dropout in dropout_choices:\n",
    "  solver = solvers[dropout]\n",
    "  train_accs.append(solver.train_acc_history[-1])\n",
    "  val_accs.append(solver.val_acc_history[-1])\n",
    "\n",
    "plt.subplot(3, 1, 1)\n",
    "for dropout in dropout_choices:\n",
    "  plt.plot(solvers[dropout].train_acc_history, 'o', label='%.2f dropout' % dropout)\n",
    "plt.title('Train accuracy')\n",
    "plt.xlabel('Epoch')\n",
    "plt.ylabel('Accuracy')\n",
    "plt.legend(ncol=2, loc='lower right')\n",
    "  \n",
    "plt.subplot(3, 1, 2)\n",
    "for dropout in dropout_choices:\n",
    "  plt.plot(solvers[dropout].val_acc_history, 'o', label='%.2f dropout' % dropout)\n",
    "plt.title('Val accuracy')\n",
    "plt.xlabel('Epoch')\n",
    "plt.ylabel('Accuracy')\n",
    "plt.legend(ncol=2, loc='lower right')\n",
    "\n",
    "plt.gcf().set_size_inches(15, 15)\n",
    "plt.show()"
   ]
  },
  {
   "cell_type": "markdown",
   "metadata": {
    "tags": [
     "pdf-inline"
    ]
   },
   "source": [
    "## Inline Question 2:\n",
    "Compare the validation and training accuracies with and without dropout -- what do your results suggest about dropout as a regularizer?\n",
    "\n",
    "## Answer:\n",
    "\n",
    "Validations curves look similar (the model with dropout has a little better performance), but in training curves we see the difference. So it looks like with dropout, we got the same results with less model capacity, and dropout served as a regularizer."
   ]
  },
  {
   "cell_type": "markdown",
   "metadata": {
    "tags": [
     "pdf-inline"
    ]
   },
   "source": [
    "## Inline Question 3:\n",
    "Suppose we are training a deep fully-connected network for image classification, with dropout after hidden layers (parameterized by keep probability p). If we are concerned about overfitting, how should we modify p (if at all) when we decide to decrease the size of the hidden layers (that is, the number of nodes in each layer)?\n",
    "\n",
    "## Answer:\n",
    "\n",
    "\n",
    "Decrease the size of the hidden layers is also decreasing model capacity. So in order not to reqularize the model too much we need to decrease dropout, i.e. to increase the keep probability p."
   ]
  },
  {
   "cell_type": "code",
   "execution_count": null,
   "metadata": {},
   "outputs": [],
   "source": []
  }
 ],
 "metadata": {
  "kernelspec": {
   "display_name": "Python [conda env:MS326]",
   "language": "python",
   "name": "conda-env-MS326-py"
  },
  "language_info": {
   "codemirror_mode": {
    "name": "ipython",
    "version": 3
   },
   "file_extension": ".py",
   "mimetype": "text/x-python",
   "name": "python",
   "nbconvert_exporter": "python",
   "pygments_lexer": "ipython3",
   "version": "3.6.9"
  }
 },
 "nbformat": 4,
 "nbformat_minor": 2
}
