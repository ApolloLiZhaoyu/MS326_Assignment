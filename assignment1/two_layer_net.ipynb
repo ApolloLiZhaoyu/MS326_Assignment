{
 "cells": [
  {
   "cell_type": "markdown",
   "metadata": {},
   "source": [
    "# Implementing a Neural Network\n",
    "\n",
    "*ATTENTION: When hand in your homework, all print info has to be kept which means that output results of each cell could be seen in your submissions. Homework scores will be judged by those print info. So show us the best result in your experiment. More details can be found in assignment1_tutor.pdf.\n",
    "\n",
    "In this exercise we will develop a neural network with fully-connected layers to perform classification, and test it out on the Fashion_mnist dataset."
   ]
  },
  {
   "cell_type": "code",
   "execution_count": 1,
   "metadata": {},
   "outputs": [],
   "source": [
    "# A bit of setup\n",
    "from __future__ import print_function\n",
    "import numpy as np\n",
    "import matplotlib.pyplot as plt\n",
    "\n",
    "from MS326.classifiers.neural_net import TwoLayerNet\n",
    "\n",
    "\n",
    "%matplotlib inline\n",
    "plt.rcParams['figure.figsize'] = (10.0, 8.0) # set default size of plots\n",
    "plt.rcParams['image.interpolation'] = 'nearest'\n",
    "plt.rcParams['image.cmap'] = 'gray'\n",
    "\n",
    "# for auto-reloading external modules\n",
    "# see http://stackoverflow.com/questions/1907993/autoreload-of-modules-in-ipython\n",
    "%load_ext autoreload\n",
    "%autoreload 2\n",
    "\n",
    "def rel_error(x, y):\n",
    "    \"\"\" returns relative error \"\"\"\n",
    "    return np.max(np.abs(x - y) / (np.maximum(1e-8, np.abs(x) + np.abs(y))))"
   ]
  },
  {
   "cell_type": "markdown",
   "metadata": {},
   "source": [
    "We will use the class `TwoLayerNet` in the file `MS325/classifiers/neural_net.py` to represent instances of our network. The network parameters are stored in the instance variable `self.params` where keys are string parameter names and values are numpy arrays. Below, we initialize toy data and a toy model that we will use to develop your implementation."
   ]
  },
  {
   "cell_type": "code",
   "execution_count": 2,
   "metadata": {},
   "outputs": [],
   "source": [
    "# Create a small net and some toy data to check your implementations.\n",
    "# Note that we set the random seed for repeatable experiments.\n",
    "\n",
    "input_size = 4\n",
    "hidden_size = 10\n",
    "num_classes = 3\n",
    "num_inputs = 5\n",
    "\n",
    "def init_toy_model():\n",
    "    np.random.seed(0)\n",
    "    return TwoLayerNet(input_size, hidden_size, num_classes, std=1e-1)\n",
    "\n",
    "def init_toy_data():\n",
    "    np.random.seed(1)\n",
    "    X = 10 * np.random.randn(num_inputs, input_size)\n",
    "    y = np.array([0, 1, 2, 2, 1])\n",
    "    return X, y\n",
    "\n",
    "net = init_toy_model()\n",
    "X, y = init_toy_data()"
   ]
  },
  {
   "cell_type": "markdown",
   "metadata": {},
   "source": [
    "# Forward pass: compute scores\n",
    "Open the file `MS325/classifiers/neural_net.py` and look at the method `TwoLayerNet.loss`. This function is very similar to the loss functions you have written for the SVM and Softmax exercises: It takes the data and weights and computes the class scores, the loss, and the gradients on the parameters. \n",
    "\n",
    "Implement the first part of the forward pass which uses the weights and biases to compute the scores for all inputs."
   ]
  },
  {
   "cell_type": "code",
   "execution_count": 3,
   "metadata": {},
   "outputs": [
    {
     "name": "stdout",
     "output_type": "stream",
     "text": [
      "Your scores:\n",
      "[[-0.81233741 -1.27654624 -0.70335995]\n",
      " [-0.17129677 -1.18803311 -0.47310444]\n",
      " [-0.51590475 -1.01354314 -0.8504215 ]\n",
      " [-0.15419291 -0.48629638 -0.52901952]\n",
      " [-0.00618733 -0.12435261 -0.15226949]]\n",
      "\n",
      "correct scores:\n",
      "[[-0.81233741 -1.27654624 -0.70335995]\n",
      " [-0.17129677 -1.18803311 -0.47310444]\n",
      " [-0.51590475 -1.01354314 -0.8504215 ]\n",
      " [-0.15419291 -0.48629638 -0.52901952]\n",
      " [-0.00618733 -0.12435261 -0.15226949]]\n",
      "\n",
      "Difference between your scores and correct scores:\n",
      "3.6802720496109664e-08\n"
     ]
    }
   ],
   "source": [
    "scores = net.loss(X)\n",
    "print('Your scores:')\n",
    "print(scores)\n",
    "print()\n",
    "print('correct scores:')\n",
    "correct_scores = np.asarray([\n",
    "  [-0.81233741, -1.27654624, -0.70335995],\n",
    "  [-0.17129677, -1.18803311, -0.47310444],\n",
    "  [-0.51590475, -1.01354314, -0.8504215 ],\n",
    "  [-0.15419291, -0.48629638, -0.52901952],\n",
    "  [-0.00618733, -0.12435261, -0.15226949]])\n",
    "print(correct_scores)\n",
    "print()\n",
    "\n",
    "# The difference should be very small. We get < 1e-7\n",
    "print('Difference between your scores and correct scores:')\n",
    "print(np.sum(np.abs(scores - correct_scores)))"
   ]
  },
  {
   "cell_type": "markdown",
   "metadata": {},
   "source": [
    "# Forward pass: compute loss\n",
    "In the same function, implement the second part that computes the data and regularizaion loss."
   ]
  },
  {
   "cell_type": "code",
   "execution_count": 4,
   "metadata": {},
   "outputs": [
    {
     "name": "stdout",
     "output_type": "stream",
     "text": [
      "Difference between your loss and correct loss:\n",
      "1.7985612998927536e-13\n"
     ]
    }
   ],
   "source": [
    "loss, _ = net.loss(X, y, reg=0.05)\n",
    "correct_loss = 1.30378789133\n",
    "\n",
    "# should be very small, we get < 1e-12\n",
    "print('Difference between your loss and correct loss:')\n",
    "print(np.sum(np.abs(loss - correct_loss)))"
   ]
  },
  {
   "cell_type": "markdown",
   "metadata": {},
   "source": [
    "# Backward pass\n",
    "Implement the rest of the function. This will compute the gradient of the loss with respect to the variables `W1`, `b1`, `W2`, and `b2`. Now that you (hopefully!) have a correctly implemented forward pass, you can debug your backward pass using a numeric gradient check:"
   ]
  },
  {
   "cell_type": "code",
   "execution_count": 5,
   "metadata": {},
   "outputs": [
    {
     "name": "stdout",
     "output_type": "stream",
     "text": [
      "W2 max relative error: 3.440708e-09\n",
      "b2 max relative error: 3.865091e-11\n",
      "W1 max relative error: 3.561318e-09\n",
      "b1 max relative error: 1.555471e-09\n"
     ]
    }
   ],
   "source": [
    "from MS326.gradient_check import eval_numerical_gradient\n",
    "\n",
    "# Use numeric gradient checking to check your implementation of the backward pass.\n",
    "# If your implementation is correct, the difference between the numeric and\n",
    "# analytic gradients should be less than 1e-8 for each of W1, W2, b1, and b2.\n",
    "\n",
    "loss, grads = net.loss(X, y, reg=0.05)\n",
    "\n",
    "# these should all be less than 1e-8 or so\n",
    "for param_name in grads:\n",
    "    f = lambda W: net.loss(X, y, reg=0.05)[0]\n",
    "    param_grad_num = eval_numerical_gradient(f, net.params[param_name], verbose=False)\n",
    "    print('%s max relative error: %e' % (param_name, rel_error(param_grad_num, grads[param_name])))"
   ]
  },
  {
   "cell_type": "markdown",
   "metadata": {},
   "source": [
    "# Train the network\n",
    "To train the network we will use stochastic gradient descent (SGD), similar to the SVM and Softmax classifiers. Look at the function `TwoLayerNet.train` and fill in the missing sections to implement the training procedure. This should be very similar to the training procedure you used for the SVM and Softmax classifiers. You will also have to implement `TwoLayerNet.predict`, as the training process periodically performs prediction to keep track of accuracy over time while the network trains.\n",
    "\n",
    "Once you have implemented the method, run the code below to train a two-layer network on toy data. You should achieve a training loss less than 0.2."
   ]
  },
  {
   "cell_type": "code",
   "execution_count": 6,
   "metadata": {},
   "outputs": [
    {
     "name": "stdout",
     "output_type": "stream",
     "text": [
      "Final training loss:  0.017149607938732093\n"
     ]
    },
    {
     "data": {
      "image/png": "[encoded data removed]",
      "text/plain": [
       "<Figure size 432x288 with 1 Axes>"
      ]
     },
     "metadata": {
      "needs_background": "light"
     },
     "output_type": "display_data"
    }
   ],
   "source": [
    "net = init_toy_model()\n",
    "stats = net.train(X, y, X, y,\n",
    "            learning_rate=1e-1, reg=5e-6,\n",
    "            num_iters=100, verbose=False)\n",
    "\n",
    "print('Final training loss: ', stats['loss_history'][-1])\n",
    "\n",
    "# plot the loss history\n",
    "plt.plot(stats['loss_history'])\n",
    "plt.xlabel('iteration')\n",
    "plt.ylabel('training loss')\n",
    "plt.title('Training Loss history')\n",
    "plt.show()"
   ]
  },
  {
   "cell_type": "markdown",
   "metadata": {},
   "source": [
    "# Load the data\n",
    "Now that you have implemented a two-layer network that passes gradient checks and works on toy data, it's time to load up our favorite Fashion_mnist data so we can use it to train a classifier on a real dataset."
   ]
  },
  {
   "cell_type": "code",
   "execution_count": 7,
   "metadata": {},
   "outputs": [
    {
     "name": "stdout",
     "output_type": "stream",
     "text": [
      "Train data shape:  (58000, 784)\n",
      "Train labels shape:  (58000,)\n",
      "Validation data shape:  (2000, 784)\n",
      "Validation labels shape:  (2000,)\n",
      "Test data shape:  (10000, 784)\n",
      "Test labels shape:  (10000,)\n"
     ]
    }
   ],
   "source": [
    "from MS326.datasets.fashion_mnist.utils import mnist_reader\n",
    "\n",
    "def get_mnist_data(num_training=58000, num_validation=2000, num_test=10000):\n",
    "    \"\"\"\n",
    "    Load the Fashion_mnist dataset from disk and perform preprocessing to prepare\n",
    "    it for the two-layer neural net classifier. These are the same steps as\n",
    "    we used for the SVM, but condensed to a single function.  \n",
    "    \"\"\"\n",
    "    # Load the raw Fashion_mnis data\n",
    "    X_train, y_train = mnist_reader.load_mnist('MS326/datasets/fashion_mnist/data/fashion', kind='train')\n",
    "    X_test, y_test = mnist_reader.load_mnist('MS326/datasets/fashion_mnist/data/fashion', kind='t10k')\n",
    "    \n",
    "    # Subsample the data\n",
    "    mask = list(range(num_training, num_training + num_validation))\n",
    "    X_val = X_train[mask]\n",
    "    y_val = y_train[mask]\n",
    "    mask = list(range(num_training))\n",
    "    X_train = X_train[mask]\n",
    "    y_train = y_train[mask]\n",
    "    mask = list(range(num_test))\n",
    "    X_test = X_test[mask]\n",
    "    y_test = y_test[mask]\n",
    "\n",
    "    # Normalize the data: subtract the mean image\n",
    "    mean_image = np.mean(X_train, axis=0).astype('uint8')\n",
    "    X_train -= mean_image\n",
    "    X_val -= mean_image\n",
    "    X_test -= mean_image\n",
    "\n",
    "    # Reshape data to rows\n",
    "    X_train = X_train.reshape(num_training, -1)\n",
    "    X_val = X_val.reshape(num_validation, -1)\n",
    "    X_test = X_test.reshape(num_test, -1)\n",
    "\n",
    "    return X_train, y_train, X_val, y_val, X_test, y_test\n",
    "\n",
    "\n",
    "# Invoke the above function to get our data.\n",
    "X_train, y_train, X_val, y_val, X_test, y_test = get_mnist_data()\n",
    "print('Train data shape: ', X_train.shape)\n",
    "print('Train labels shape: ', y_train.shape)\n",
    "print('Validation data shape: ', X_val.shape)\n",
    "print('Validation labels shape: ', y_val.shape)\n",
    "print('Test data shape: ', X_test.shape)\n",
    "print('Test labels shape: ', y_test.shape)"
   ]
  },
  {
   "cell_type": "markdown",
   "metadata": {},
   "source": [
    "# Train a network\n",
    "To train our network we will use SGD with momentum. In addition, we will adjust the learning rate with an exponential learning rate schedule as optimization proceeds; after each epoch, we will reduce the learning rate by multiplying it by a decay rate."
   ]
  },
  {
   "cell_type": "code",
   "execution_count": 8,
   "metadata": {},
   "outputs": [
    {
     "name": "stdout",
     "output_type": "stream",
     "text": [
      "iteration 0 / 1000: loss 2.302675\n",
      "iteration 100 / 1000: loss 2.302470\n",
      "iteration 200 / 1000: loss 2.301350\n",
      "iteration 300 / 1000: loss 2.292429\n",
      "iteration 400 / 1000: loss 2.237690\n",
      "iteration 500 / 1000: loss 2.042292\n",
      "iteration 600 / 1000: loss 1.839685\n",
      "iteration 700 / 1000: loss 1.767417\n",
      "iteration 800 / 1000: loss 1.677335\n",
      "iteration 900 / 1000: loss 1.556223\n",
      "Validation accuracy:  0.4865\n"
     ]
    }
   ],
   "source": [
    "input_size = 28*28\n",
    "hidden_size = 50\n",
    "num_classes = 10\n",
    "net = TwoLayerNet(input_size, hidden_size, num_classes)\n",
    "\n",
    "# Train the network\n",
    "stats = net.train(X_train, y_train, X_val, y_val,\n",
    "            num_iters=1000, batch_size=200,\n",
    "            learning_rate=1e-4, learning_rate_decay=0.95,\n",
    "            reg=0.25, verbose=True)\n",
    "\n",
    "# Predict on the validation set\n",
    "val_acc = (net.predict(X_val) == y_val).mean()\n",
    "print('Validation accuracy: ', val_acc)\n",
    "\n"
   ]
  },
  {
   "cell_type": "markdown",
   "metadata": {},
   "source": [
    "# Debug the training\n",
    "With the default parameters we provided above, you should get a validation accuracy of about 0.29 on the validation set. This isn't very good.\n",
    "\n",
    "One strategy for getting insight into what's wrong is to plot the loss function and the accuracies on the training and validation sets during optimization.\n",
    "\n",
    "Another strategy is to visualize the weights that were learned in the first layer of the network. In most neural networks trained on visual data, the first layer weights typically show some visible structure when visualized."
   ]
  },
  {
   "cell_type": "code",
   "execution_count": 9,
   "metadata": {},
   "outputs": [
    {
     "data": {
      "image/png": "[encoded data removed]",
      "text/plain": [
       "<Figure size 432x288 with 2 Axes>"
      ]
     },
     "metadata": {
      "needs_background": "light"
     },
     "output_type": "display_data"
    }
   ],
   "source": [
    "# Plot the loss function and train / validation accuracies\n",
    "plt.subplot(2, 1, 1)\n",
    "plt.plot(stats['loss_history'])\n",
    "plt.title('Loss history')\n",
    "plt.xlabel('Iteration')\n",
    "plt.ylabel('Loss')\n",
    "\n",
    "plt.subplot(2, 1, 2)\n",
    "plt.plot(stats['train_acc_history'], label='train')\n",
    "plt.plot(stats['val_acc_history'], label='val')\n",
    "plt.title('Classification accuracy history')\n",
    "plt.xlabel('Epoch')\n",
    "plt.ylabel('Clasification accuracy')\n",
    "plt.show()"
   ]
  },
  {
   "cell_type": "markdown",
   "metadata": {},
   "source": [
    "# Tune your hyperparameters\n",
    "\n",
    "**What's wrong?**. Looking at the visualizations above, we see that the loss is decreasing more or less linearly, which seems to suggest that the learning rate may be too low. Moreover, there is no gap between the training and validation accuracy, suggesting that the model we used has low capacity, and that we should increase its size. On the other hand, with a very large model we would expect to see more overfitting, which would manifest itself as a very large gap between the training and validation accuracy.\n",
    "\n",
    "**Tuning**. Tuning the hyperparameters and developing intuition for how they affect the final performance is a large part of using Neural Networks, so we want you to get a lot of practice. Below, you should experiment with different values of the various hyperparameters, including hidden layer size, learning rate, numer of training epochs, and regularization strength. You might also consider tuning the learning rate decay, but you should be able to get good performance using the default value.\n",
    "\n",
    "**Approximate results**. You should be aim to achieve a classification accuracy of greater than 70% on the validation set. Our best network gets over 73% on the validation set.\n",
    "\n",
    "**Experiment**: You goal in this exercise is to get as good of a result on Fashion_mnist as you can, with a fully-connected Neural Network. For every 1% above 73% on the Test set we will award you with one extra bonus point. Feel free implement your own techniques (e.g. PCA to reduce dimensionality, or adding dropout, or adding features to the solver, etc.)."
   ]
  },
  {
   "cell_type": "markdown",
   "metadata": {
    "tags": [
     "pdf-inline"
    ]
   },
   "source": [
    "**Explain your hyperparameter tuning process below.**\n",
    "\n",
    "$\\color{blue}{\\textit Your Answer:}$"
   ]
  },
  {
   "cell_type": "code",
   "execution_count": null,
   "metadata": {},
   "outputs": [
    {
     "name": "stdout",
     "output_type": "stream",
     "text": [
      "for hs: 8.000000e+01, lr: 1.000000e-04 and r: 1.000000e-01, valid accuracy is: 0.486500\n",
      "for hs: 8.000000e+01, lr: 1.000000e-04 and r: 2.000000e-01, valid accuracy is: 0.507500\n",
      "for hs: 8.000000e+01, lr: 1.000000e-04 and r: 3.000000e-01, valid accuracy is: 0.491000\n",
      "for hs: 8.000000e+01, lr: 5.000000e-04 and r: 1.000000e-01, valid accuracy is: 0.704000\n",
      "for hs: 8.000000e+01, lr: 5.000000e-04 and r: 2.000000e-01, valid accuracy is: 0.658000\n",
      "for hs: 8.000000e+01, lr: 5.000000e-04 and r: 3.000000e-01, valid accuracy is: 0.661500\n",
      "for hs: 8.000000e+01, lr: 1.000000e-03 and r: 1.000000e-01, valid accuracy is: 0.114500\n",
      "for hs: 8.000000e+01, lr: 1.000000e-03 and r: 2.000000e-01, valid accuracy is: 0.197500\n",
      "for hs: 8.000000e+01, lr: 1.000000e-03 and r: 3.000000e-01, valid accuracy is: 0.096000\n",
      "for hs: 9.000000e+01, lr: 1.000000e-04 and r: 1.000000e-01, valid accuracy is: 0.507500\n",
      "for hs: 9.000000e+01, lr: 1.000000e-04 and r: 2.000000e-01, valid accuracy is: 0.481500\n",
      "for hs: 9.000000e+01, lr: 1.000000e-04 and r: 3.000000e-01, valid accuracy is: 0.505000\n",
      "for hs: 9.000000e+01, lr: 5.000000e-04 and r: 1.000000e-01, valid accuracy is: 0.694500\n",
      "for hs: 9.000000e+01, lr: 5.000000e-04 and r: 2.000000e-01, valid accuracy is: 0.729500\n",
      "for hs: 9.000000e+01, lr: 5.000000e-04 and r: 3.000000e-01, valid accuracy is: 0.706000\n",
      "for hs: 9.000000e+01, lr: 1.000000e-03 and r: 1.000000e-01, valid accuracy is: 0.205500\n",
      "for hs: 9.000000e+01, lr: 1.000000e-03 and r: 2.000000e-01, valid accuracy is: 0.089000\n",
      "for hs: 9.000000e+01, lr: 1.000000e-03 and r: 3.000000e-01, valid accuracy is: 0.089000\n",
      "for hs: 1.000000e+02, lr: 1.000000e-04 and r: 1.000000e-01, valid accuracy is: 0.494500\n",
      "for hs: 1.000000e+02, lr: 1.000000e-04 and r: 2.000000e-01, valid accuracy is: 0.500000\n",
      "for hs: 1.000000e+02, lr: 1.000000e-04 and r: 3.000000e-01, valid accuracy is: 0.528500\n",
      "for hs: 1.000000e+02, lr: 5.000000e-04 and r: 1.000000e-01, valid accuracy is: 0.703500\n",
      "for hs: 1.000000e+02, lr: 5.000000e-04 and r: 2.000000e-01, valid accuracy is: 0.722500\n",
      "for hs: 1.000000e+02, lr: 5.000000e-04 and r: 3.000000e-01, valid accuracy is: 0.692000\n",
      "for hs: 1.000000e+02, lr: 1.000000e-03 and r: 1.000000e-01, valid accuracy is: 0.093000\n",
      "for hs: 1.000000e+02, lr: 1.000000e-03 and r: 2.000000e-01, valid accuracy is: 0.106500\n",
      "for hs: 1.000000e+02, lr: 1.000000e-03 and r: 3.000000e-01, valid accuracy is: 0.196000\n",
      "for hs: 1.100000e+02, lr: 1.000000e-04 and r: 1.000000e-01, valid accuracy is: 0.514000\n",
      "for hs: 1.100000e+02, lr: 1.000000e-04 and r: 2.000000e-01, valid accuracy is: 0.517500\n",
      "for hs: 1.100000e+02, lr: 1.000000e-04 and r: 3.000000e-01, valid accuracy is: 0.504500\n",
      "for hs: 1.100000e+02, lr: 5.000000e-04 and r: 1.000000e-01, valid accuracy is: 0.743000\n",
      "for hs: 1.100000e+02, lr: 5.000000e-04 and r: 2.000000e-01, valid accuracy is: 0.716000\n",
      "for hs: 1.100000e+02, lr: 5.000000e-04 and r: 3.000000e-01, valid accuracy is: 0.664500\n",
      "for hs: 1.100000e+02, lr: 1.000000e-03 and r: 1.000000e-01, valid accuracy is: 0.223000\n",
      "for hs: 1.100000e+02, lr: 1.000000e-03 and r: 2.000000e-01, valid accuracy is: 0.203000\n",
      "for hs: 1.100000e+02, lr: 1.000000e-03 and r: 3.000000e-01, valid accuracy is: 0.203500\n",
      "for hs: 1.200000e+02, lr: 1.000000e-04 and r: 1.000000e-01, valid accuracy is: 0.503500\n",
      "for hs: 1.200000e+02, lr: 1.000000e-04 and r: 2.000000e-01, valid accuracy is: 0.482500\n",
      "for hs: 1.200000e+02, lr: 1.000000e-04 and r: 3.000000e-01, valid accuracy is: 0.435000\n",
      "for hs: 1.200000e+02, lr: 5.000000e-04 and r: 1.000000e-01, valid accuracy is: 0.660500\n"
     ]
    }
   ],
   "source": [
    "best_net = None # store the best model into this \n",
    "\n",
    "#################################################################################\n",
    "# TODO: Tune hyperparameters using the validation set. Store your best trained  #\n",
    "# model in best_net.                                                            #\n",
    "#                                                                               #\n",
    "# To help debug your network, it may help to use visualizations similar to the  #\n",
    "# ones we used above; these visualizations will have significant qualitative    #\n",
    "# differences from the ones we saw above for the poorly tuned network.          #\n",
    "#                                                                               #\n",
    "# Tweaking hyperparameters by hand can be fun, but you might find it useful to  #\n",
    "# write code to sweep through possible combinations of hyperparameters          #\n",
    "# automatically like we did on the previous exercises.                          #\n",
    "#################################################################################\n",
    "\n",
    "hidden_size = [80, 90, 100, 110, 120]\n",
    "learning_rate = [1e-4, 5e-4, 1e-3]\n",
    "reg = [0.1, 0.2, 0.3]\n",
    "best_acc = -1\n",
    "\n",
    "log = {}\n",
    "\n",
    "for hs in hidden_size:\n",
    "    for lr in learning_rate:\n",
    "        for r in reg:\n",
    "            net = TwoLayerNet(input_size, hs, num_classes)\n",
    "            stats = net.train(X_train, y_train, X_val, y_val,\n",
    "                        num_iters=1000, batch_size=200,\n",
    "                        learning_rate=lr, learning_rate_decay=0.95,\n",
    "                        reg=r, verbose=False)\n",
    "            \n",
    "            acc = stats['val_acc_history'][-1]\n",
    "            log[(hs, lr, r)] = acc\n",
    "            \n",
    "            # Print Log\n",
    "            print('for hs: %e, lr: %e and r: %e, valid accuracy is: %f' \n",
    "                    % (hs, lr, r, acc))\n",
    "            \n",
    "            if acc > best_acc:\n",
    "                best_net = net\n",
    "                best_acc = acc\n",
    "                \n",
    "print('Best Networks has an Accuracy of: %f' % best_acc)\n",
    "\n",
    "#################################################################################\n",
    "#                               END OF YOUR CODE                                #\n",
    "#################################################################################"
   ]
  },
  {
   "cell_type": "code",
   "execution_count": null,
   "metadata": {},
   "outputs": [],
   "source": [
    "# visualize the weights of the best network\n",
    "from MS326.vis_utils import visualize_grid\n",
    "def show_net_weights(net):\n",
    "    W1 = net.params['W1']\n",
    "    W1 = W1.reshape(28,28,-1).transpose(2,0,1)\n",
    "#     W1\n",
    "    plt.imshow(visualize_grid(W1,padding=3).astype('uint8'))\n",
    "    plt.gca().axis('off')\n",
    "    plt.show()\n",
    "# show_net_weights(net)\n",
    "show_net_weights(best_net)"
   ]
  },
  {
   "cell_type": "markdown",
   "metadata": {},
   "source": [
    "# Run on the test set\n",
    "When you are done experimenting, you should evaluate your final trained network on the test set; you should get above 48%.\n",
    "\n",
    "**We will give you extra bonus point for every 1% of accuracy above 73%.**"
   ]
  },
  {
   "cell_type": "code",
   "execution_count": null,
   "metadata": {},
   "outputs": [],
   "source": [
    "test_acc = (best_net.predict(X_test) == y_test).mean()\n",
    "print('Test accuracy: ', test_acc)"
   ]
  },
  {
   "cell_type": "markdown",
   "metadata": {
    "tags": [
     "pdf-inline"
    ]
   },
   "source": [
    "**Inline Question**\n",
    "\n",
    "Now that you have trained a Neural Network classifier, you may find that your testing accuracy is much lower than the training accuracy. In what ways can we decrease this gap? Select all that apply.\n",
    "\n",
    "1. Train on a larger dataset.\n",
    "2. Add more hidden units.\n",
    "3. Increase the regularization strength.\n",
    "4. None of the above.\n",
    "\n",
    "$\\color{blue}{\\textit Your Answer:}$\n",
    "\n",
    "$\\color{blue}{\\textit Your Explanation:}$\n",
    "\n"
   ]
  },
  {
   "cell_type": "code",
   "execution_count": null,
   "metadata": {},
   "outputs": [],
   "source": []
  }
 ],
 "metadata": {
  "kernelspec": {
   "display_name": "Python 3",
   "language": "python",
   "name": "python3"
  },
  "language_info": {
   "codemirror_mode": {
    "name": "ipython",
    "version": 3
   },
   "file_extension": ".py",
   "mimetype": "text/x-python",
   "name": "python",
   "nbconvert_exporter": "python",
   "pygments_lexer": "ipython3",
   "version": "3.7.1"
  }
 },
 "nbformat": 4,
 "nbformat_minor": 1
}
